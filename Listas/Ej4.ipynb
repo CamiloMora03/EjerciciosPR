{
 "cells": [
  {
   "cell_type": "code",
   "execution_count": 1,
   "metadata": {},
   "outputs": [
    {
     "name": "stdout",
     "output_type": "stream",
     "text": [
      "[1, 4, 5, 6, 7, 9, 12, 56, 87]\n",
      "[234, 56, 32, 9, 7, 5, 5, 3, 3]\n"
     ]
    }
   ],
   "source": [
    "\"\"\" \n",
    "    Generar dos listas de longitudes n y m, la primera lista ordenarla de manera ascendente y la segunda\n",
    "    de manera descendente.\n",
    "\"\"\"\n",
    "#se generan las dos listas de diferente tamano con numeros para ordenar\n",
    "lista1 = [5,6,4,1,7,9,12,56,87]\n",
    "lista2 = [3,5,7,9,3,5,32,234,56]\n",
    "\n",
    "#se ordena de forma ascendente la lista1\n",
    "lista1.sort()\n",
    "#se muestra como esta\n",
    "print(lista1)\n",
    "\n",
    "#se ordena de forma ascendente la lista2\n",
    "lista2.sort()\n",
    "\n",
    "#se revierte para que este de forma descendente\n",
    "lista2.reverse()\n",
    "\n",
    "#se muestra la lista2\n",
    "print(lista2)"
   ]
  },
  {
   "cell_type": "code",
   "execution_count": null,
   "metadata": {},
   "outputs": [],
   "source": []
  }
 ],
 "metadata": {
  "kernelspec": {
   "display_name": "Python 3.9.2 64-bit",
   "language": "python",
   "name": "python3"
  },
  "language_info": {
   "codemirror_mode": {
    "name": "ipython",
    "version": 3
   },
   "file_extension": ".py",
   "mimetype": "text/x-python",
   "name": "python",
   "nbconvert_exporter": "python",
   "pygments_lexer": "ipython3",
   "version": "3.9.2"
  },
  "orig_nbformat": 4,
  "vscode": {
   "interpreter": {
    "hash": "2b3401e4de645694a69141f2204c1ff9232f239e2074c8aa57b46c27c58af83f"
   }
  }
 },
 "nbformat": 4,
 "nbformat_minor": 2
}
