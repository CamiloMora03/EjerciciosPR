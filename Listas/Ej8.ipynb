{
 "cells": [
  {
   "cell_type": "code",
   "execution_count": 5,
   "metadata": {},
   "outputs": [
    {
     "name": "stdout",
     "output_type": "stream",
     "text": [
      "Usuario registrado\n"
     ]
    }
   ],
   "source": [
    "\"\"\"\n",
    "    Crear dos listas la primera contendar el nombre del usuario y la segunda lista contendrá el password\n",
    "    de cada usuario. Genere una rutida de código que permita validar que los usuariso y password,\n",
    "    guardados conincidan con los datos ingresados por el usuario y si es correcto arrojar el mensaje de\n",
    "    usuario registrado y de lo contrario arrojar el mensaje de usuario no valido.\n",
    "\"\"\"\n",
    "\n",
    "user = ['admin']\n",
    "pwsd = ['admin']\n",
    "\n",
    "user1 = input(\"Ingrese el usuario: \")\n",
    "pwsd1 = input(\"Ingrese la contrasena: \")\n",
    "\n",
    "if user[0] == user1 and pwsd[0] == pwsd1:\n",
    "    print(\"Usuario registrado\")\n",
    "else:\n",
    "    print(\"Usuario no valido\")"
   ]
  },
  {
   "cell_type": "code",
   "execution_count": null,
   "metadata": {},
   "outputs": [],
   "source": []
  }
 ],
 "metadata": {
  "kernelspec": {
   "display_name": "Python 3.9.2 64-bit",
   "language": "python",
   "name": "python3"
  },
  "language_info": {
   "codemirror_mode": {
    "name": "ipython",
    "version": 3
   },
   "file_extension": ".py",
   "mimetype": "text/x-python",
   "name": "python",
   "nbconvert_exporter": "python",
   "pygments_lexer": "ipython3",
   "version": "3.9.2"
  },
  "orig_nbformat": 4,
  "vscode": {
   "interpreter": {
    "hash": "2b3401e4de645694a69141f2204c1ff9232f239e2074c8aa57b46c27c58af83f"
   }
  }
 },
 "nbformat": 4,
 "nbformat_minor": 2
}
