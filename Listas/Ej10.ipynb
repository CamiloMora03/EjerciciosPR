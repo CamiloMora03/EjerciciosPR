{
 "cells": [
  {
   "cell_type": "code",
   "execution_count": 8,
   "metadata": {},
   "outputs": [
    {
     "name": "stdout",
     "output_type": "stream",
     "text": [
      "nosubasabuson es palindromo\n",
      "sometamosomatemos es palindromo\n",
      "Palabras:  ['no subas abuson', 'sometamos o matemos']\n",
      "Palindromos:  2\n",
      "Total palabras:  2\n"
     ]
    }
   ],
   "source": [
    "\"\"\"\n",
    "    Crear una lista de palabras ingresadas por teclado, e identificar si alguna de ellas es palíndromo o\n",
    "    no, al final arrojar cuantas y cuales palabras son palíndromas, y mostrar la lista original. \n",
    "\n",
    "\"\"\"\n",
    "#estado para detener el ciclo cuando se quiera\n",
    "estado = \"y\"\n",
    "\n",
    "#contador de palabras y de palindromos\n",
    "cont = 0\n",
    "contPal = 0\n",
    "\n",
    "#lista vacia para agregar las palabras que se ingresen\n",
    "lista = []\n",
    "\n",
    "#ciclo que se repite hasta que se quiera\n",
    "while estado != 'n':\n",
    "    frase = input(\"Ingrese frase: \")\n",
    "\n",
    "    #contador de palabras que aumentan cuando se ingresan\n",
    "    cont += 1\n",
    "\n",
    "    #Agrega las palabras ingresadas a la lista\n",
    "    lista.append(frase)\n",
    "\n",
    "    #la frase se deja en minusculas para que sea facil de comparar\n",
    "    frase = frase.lower()\n",
    "\n",
    "    #elimina los espacios de la frase\n",
    "    frase = frase.replace(' ', '')\n",
    "\n",
    "    #cuenta la longitud de la frase para compararla\n",
    "    longitud = len(frase)\n",
    "\n",
    "    #condicion que evalua si la frase tiene una longitud par o impar\n",
    "    if longitud % 2 == 0:\n",
    "        #divide la frase a la mitad para determinar si es palindromo\n",
    "        izquierda = frase[:longitud // 2]\n",
    "        derecha = frase[longitud // 2:]\n",
    "        \n",
    " \n",
    "    else:\n",
    "        \n",
    "        izquierda = frase[:longitud // 2]\n",
    "        derecha = frase[longitud // 2 + 1:]\n",
    "\n",
    "    #si ambas mitades son iguales, es palindromo\n",
    "    if izquierda[::-1] == derecha:\n",
    "        print(f\"{frase} es palindromo\")\n",
    "        #contador de palindromo \n",
    "        contPal += 1\n",
    "    #pregunta si desea continuar agregando palabras\n",
    "    estado = input(\"Desea agregar otra frase? (y/n): \")\n",
    "\n",
    "print(\"Palabras: \",lista)\n",
    "print(\"Palindromos: \", contPal)\n",
    "print(\"Total palabras: \", cont)\n"
   ]
  },
  {
   "cell_type": "code",
   "execution_count": null,
   "metadata": {},
   "outputs": [],
   "source": []
  }
 ],
 "metadata": {
  "kernelspec": {
   "display_name": "Python 3.9.2 64-bit",
   "language": "python",
   "name": "python3"
  },
  "language_info": {
   "codemirror_mode": {
    "name": "ipython",
    "version": 3
   },
   "file_extension": ".py",
   "mimetype": "text/x-python",
   "name": "python",
   "nbconvert_exporter": "python",
   "pygments_lexer": "ipython3",
   "version": "3.9.2"
  },
  "orig_nbformat": 4,
  "vscode": {
   "interpreter": {
    "hash": "2b3401e4de645694a69141f2204c1ff9232f239e2074c8aa57b46c27c58af83f"
   }
  }
 },
 "nbformat": 4,
 "nbformat_minor": 2
}
