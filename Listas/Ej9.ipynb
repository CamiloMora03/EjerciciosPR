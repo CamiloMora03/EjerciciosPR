{
 "cells": [
  {
   "cell_type": "code",
   "execution_count": 5,
   "metadata": {},
   "outputs": [
    {
     "name": "stdout",
     "output_type": "stream",
     "text": [
      "['Crónica de una muerte anunciada', 'Cien años de soledad', 'El amor en los tiempos del cólera', 'Relato de un náufrago', 'El coronel no tiene quien le escriba', 'El amor en los tiempos del cólera', 'Del amor y otros demonios', 'Doce cuentos peregrinos', 'El otoño del patriarca', 'Memoria de mis putas tristes']\n",
      "['CRÓNICA DE UNA MUERTE ANUNCIADA', 'CIEN AÑOS DE SOLEDAD', 'EL AMOR EN LOS TIEMPOS DEL CÓLERA', 'RELATO DE UN NÁUFRAGO', 'EL CORONEL NO TIENE QUIEN LE ESCRIBA', 'EL AMOR EN LOS TIEMPOS DEL CÓLERA', 'DEL AMOR Y OTROS DEMONIOS', 'DOCE CUENTOS PEREGRINOS', 'EL OTOÑO DEL PATRIARCA', 'MEMORIA DE MIS PUTAS TRISTES']\n",
      "['crónica de una muerte anunciada', 'cien años de soledad', 'el amor en los tiempos del cólera', 'relato de un náufrago', 'el coronel no tiene quien le escriba', 'el amor en los tiempos del cólera', 'del amor y otros demonios', 'doce cuentos peregrinos', 'el otoño del patriarca', 'memoria de mis putas tristes']\n"
     ]
    }
   ],
   "source": [
    "\"\"\"\n",
    "    Convertir cada elemento guardado en la lista del ejercicio #6, en mayúsculas y minúsculas, Al final\n",
    "    mostrar en pantalla el listado original y luego los dos nuevos listados respectivamente\n",
    "\n",
    "\"\"\"\n",
    "\n",
    "lista1 = [\"Crónica de una muerte anunciada\",\"Cien años de soledad\", \"El amor en los tiempos del cólera\", \"Relato de un náufrago\", \"El coronel no tiene quien le escriba\",\"El amor en los tiempos del cólera\",\"Del amor y otros demonios\",\"Doce cuentos peregrinos\", \"El otoño del patriarca\",\"Memoria de mis putas tristes\"]\n",
    "lista2 = []\n",
    "lista3 = []\n",
    "for i,j in enumerate(lista1):\n",
    "    ni = j.upper()\n",
    "    no = j.lower()\n",
    "    lista2.append(no)\n",
    "    lista3.append(ni)\n",
    "\n",
    "print(lista1)\n",
    "print(lista3)\n",
    "print(lista2)\n"
   ]
  },
  {
   "cell_type": "code",
   "execution_count": null,
   "metadata": {},
   "outputs": [],
   "source": []
  }
 ],
 "metadata": {
  "kernelspec": {
   "display_name": "Python 3.9.2 64-bit",
   "language": "python",
   "name": "python3"
  },
  "language_info": {
   "codemirror_mode": {
    "name": "ipython",
    "version": 3
   },
   "file_extension": ".py",
   "mimetype": "text/x-python",
   "name": "python",
   "nbconvert_exporter": "python",
   "pygments_lexer": "ipython3",
   "version": "3.9.2"
  },
  "orig_nbformat": 4,
  "vscode": {
   "interpreter": {
    "hash": "2b3401e4de645694a69141f2204c1ff9232f239e2074c8aa57b46c27c58af83f"
   }
  }
 },
 "nbformat": 4,
 "nbformat_minor": 2
}
