{
 "cells": [
  {
   "cell_type": "code",
   "execution_count": 18,
   "metadata": {},
   "outputs": [
    {
     "name": "stdout",
     "output_type": "stream",
     "text": [
      "[2, 1]\n",
      "[4, 3, 2, 1]\n",
      "[6, 5, 4, 3, 2, 1]\n",
      "[8, 7, 6, 5, 4, 3, 2, 1]\n",
      "[10, 9, 8, 7, 6, 5, 4, 3, 2, 1]\n",
      "[10, 9, 8, 7, 6, 5, 4, 3, 2, 1]\n",
      "[1, 2, 3, 4, 5, 6, 7, 8, 9, 10]\n"
     ]
    }
   ],
   "source": [
    "\"\"\"\n",
    "    Almacenar una lista de números, identificar la longitud de la lista si es par:\n",
    "    invertir los elementos de la lista. Imprimir la lista original y lista invertida\n",
    "\"\"\"\n",
    "#Lista vacia para guardar elementos\n",
    "lista = []\n",
    "\n",
    "#variable que amacenara los numeros en la lista. Se incializa en cero para que el ciclo empiece a ejecutarse\n",
    "num = 1\n",
    "\n",
    "#Ciclo que se ejecutara hasta que el numero a agregar sea cero\n",
    "while num != 0:\n",
    "\n",
    "    #se solicitan los numeros a agregar\n",
    "    num = int(input(\"Ingrese un numero para agregar a la lista: \"))\n",
    "    #condicion para cuando num sea cero y romper el ciclo sin agregar cero a la lista\n",
    "    if num == 0:\n",
    "        break\n",
    "    #Se agregan los numeros a la lista\n",
    "    lista.append(num)\n",
    "    #condicion para saber si la longitud de la lista es cero\n",
    "    if len(lista)%2 == 0:\n",
    "        #Impresion de la lista invertida, no se usa la funcion revert() para no afectar la lista a agregar mas numeros\n",
    "        #   ////// ¿Qué es [::-1]? → https://es.stackoverflow.com/questions/217819/que-es-1-en-python\n",
    "        print(lista[::-1])\n",
    "\n",
    "#impresion de la lista invertida y normal como lo solicitan\n",
    "print(lista[::-1])\n",
    "print(lista)"
   ]
  },
  {
   "cell_type": "code",
   "execution_count": null,
   "metadata": {},
   "outputs": [],
   "source": []
  },
  {
   "cell_type": "code",
   "execution_count": null,
   "metadata": {},
   "outputs": [],
   "source": []
  }
 ],
 "metadata": {
  "kernelspec": {
   "display_name": "Python 3.9.2 64-bit",
   "language": "python",
   "name": "python3"
  },
  "language_info": {
   "codemirror_mode": {
    "name": "ipython",
    "version": 3
   },
   "file_extension": ".py",
   "mimetype": "text/x-python",
   "name": "python",
   "nbconvert_exporter": "python",
   "pygments_lexer": "ipython3",
   "version": "3.9.2"
  },
  "orig_nbformat": 4,
  "vscode": {
   "interpreter": {
    "hash": "2b3401e4de645694a69141f2204c1ff9232f239e2074c8aa57b46c27c58af83f"
   }
  }
 },
 "nbformat": 4,
 "nbformat_minor": 2
}
