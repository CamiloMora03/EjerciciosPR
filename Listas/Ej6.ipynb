{
 "cells": [
  {
   "cell_type": "code",
   "execution_count": 86,
   "metadata": {},
   "outputs": [
    {
     "name": "stdout",
     "output_type": "stream",
     "text": [
      "['Crónicx de unx muerte xnuncixdx', 'Cien xños de soledxd', 'El xmor en los tiempos del cólerx', 'Relxto de un náufrxgo', 'El coronel no tiene quien le escribx', 'El xmor en los tiempos del cólerx', 'Del xmor y otros demonios', 'Doce cuentos peregrinos', 'El otoño del pxtrixrcx', 'Memorix de mis putxs tristes']\n"
     ]
    }
   ],
   "source": [
    "\"\"\"\n",
    "    Generar una lista de nombres de libros del autor Gabriel Garcia Marquez mínimo 10 obras del autor,\n",
    "    al final mostar el nombre del libro, la cantidad de caracteres del titulo y remplazar cada letra A con la\n",
    "    letra X mayuscula. y mostrar el resultado de las modificaciones de la lista original.\n",
    "\"\"\"\n",
    "\n",
    "lista = [\"Crónica de una muerte anunciada\",\"Cien años de soledad\", \"El amor en los tiempos del cólera\", \"Relato de un náufrago\", \"El coronel no tiene quien le escriba\",\"El amor en los tiempos del cólera\",\"Del amor y otros demonios\",\"Doce cuentos peregrinos\", \"El otoño del patriarca\",\"Memoria de mis putas tristes\"]\n",
    "\n",
    "#ciclo que recorre los elementos de la lista y los enumera\n",
    "for i,j in enumerate(lista):\n",
    "    #nueva palabra que cambia las a por las x\n",
    "    ni = j.replace('a','x')\n",
    "    #Cambia la palabra por la nueva\n",
    "    lista[i] = ni\n",
    "#muestra la nueva lista\n",
    "print(lista)\n",
    "\n",
    "        \n"
   ]
  },
  {
   "cell_type": "code",
   "execution_count": null,
   "metadata": {},
   "outputs": [],
   "source": []
  }
 ],
 "metadata": {
  "kernelspec": {
   "display_name": "Python 3.9.2 64-bit",
   "language": "python",
   "name": "python3"
  },
  "language_info": {
   "codemirror_mode": {
    "name": "ipython",
    "version": 3
   },
   "file_extension": ".py",
   "mimetype": "text/x-python",
   "name": "python",
   "nbconvert_exporter": "python",
   "pygments_lexer": "ipython3",
   "version": "3.9.2"
  },
  "orig_nbformat": 4,
  "vscode": {
   "interpreter": {
    "hash": "2b3401e4de645694a69141f2204c1ff9232f239e2074c8aa57b46c27c58af83f"
   }
  }
 },
 "nbformat": 4,
 "nbformat_minor": 2
}
