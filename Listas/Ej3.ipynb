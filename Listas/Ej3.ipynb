{
 "cells": [
  {
   "cell_type": "code",
   "execution_count": 11,
   "metadata": {},
   "outputs": [
    {
     "name": "stdout",
     "output_type": "stream",
     "text": [
      "[11, 11, 11, 11, 11, 11, 11, 11, 11, 11]\n"
     ]
    }
   ],
   "source": [
    "\"\"\"\n",
    "    Almacenar dos lista de números enteros, lista1 y lista2, y generar la tercera lista con los siguientes\n",
    "    criterios: Sumar el primer elemento de la lista1 con el ultimo elemento de la lista2 y guardar el\n",
    "    resultado en la lista3, luego el segundo elemento de la lista1 sumarlo con el noveno elemento de la\n",
    "    lista2. Al final imprimir las tres listas.\n",
    "\n",
    "\"\"\"\n",
    "\n",
    "#dos listas del mismo tamano\n",
    "lista1 = [1, 2, 3, 4, 5, 6,7,8,9,10]\n",
    "lista2 = [1, 2, 3, 4, 5, 6,7,8,9,10]\n",
    "\n",
    "#lista 2 revertida\n",
    "lista2.reverse()\n",
    "\n",
    "#lista vacia para agregar elementos sumados\n",
    "lista3 = []\n",
    "\n",
    "#ciclo que se repita tantos numeros tenga la lista1\n",
    "for i, j in enumerate(lista1):\n",
    "    #agregar elementos a la lista 3 sumando las otras listas\n",
    "      lista3.append(lista1[i] + lista2[i])\n",
    "#se imprime el resultado\n",
    "print(lista3)"
   ]
  },
  {
   "cell_type": "code",
   "execution_count": null,
   "metadata": {},
   "outputs": [],
   "source": []
  },
  {
   "cell_type": "code",
   "execution_count": null,
   "metadata": {},
   "outputs": [],
   "source": []
  }
 ],
 "metadata": {
  "kernelspec": {
   "display_name": "Python 3.9.2 64-bit",
   "language": "python",
   "name": "python3"
  },
  "language_info": {
   "codemirror_mode": {
    "name": "ipython",
    "version": 3
   },
   "file_extension": ".py",
   "mimetype": "text/x-python",
   "name": "python",
   "nbconvert_exporter": "python",
   "pygments_lexer": "ipython3",
   "version": "3.9.2"
  },
  "orig_nbformat": 4,
  "vscode": {
   "interpreter": {
    "hash": "2b3401e4de645694a69141f2204c1ff9232f239e2074c8aa57b46c27c58af83f"
   }
  }
 },
 "nbformat": 4,
 "nbformat_minor": 2
}
