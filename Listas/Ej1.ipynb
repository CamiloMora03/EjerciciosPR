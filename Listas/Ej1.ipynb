{
 "cells": [
  {
   "cell_type": "code",
   "execution_count": 4,
   "metadata": {},
   "outputs": [
    {
     "name": "stdout",
     "output_type": "stream",
     "text": [
      "[25, -49, 77, -6, 93, 28, 28, 89, -80, -13, 50, -7, 78, -40, 30]\n",
      "Positivos:  9\n",
      "Suma de positivos:  498\n",
      "Negativos:  6\n",
      "Resta negativos:  -195\n",
      "Ceros:  0\n"
     ]
    }
   ],
   "source": [
    "\"\"\"\n",
    "    Almacenar en una lista 15 números e imprimir cuantos son ceros, negativos, positivos, además\n",
    "    imprimir la suma de números positivos y suma de números negativos.\n",
    "\"\"\"\n",
    "\n",
    "#importar la libreria random para usar la funcion randrange\n",
    "from random import randrange\n",
    "\n",
    "#lsita vacia para guardar numeros aleatorios\n",
    "lista = []\n",
    "\n",
    "#se guardan 15 numeros aleatrios entre -100 y 100\n",
    "for j in range(15):\n",
    "    lista.append(randrange(-100,100))\n",
    "\n",
    "#Se imprime la lista para comprobar el proceso\n",
    "print(lista)\n",
    "\n",
    "#contadores para positivos, negativos y ceros\n",
    "conPos = 0\n",
    "conNeg = 0\n",
    "conCero = 0\n",
    "acumSuma = 0 \n",
    "acumResta = 0\n",
    "\n",
    "#ciclo que recorrera los elementos de la lista\n",
    "for i in lista:\n",
    "    #condicion para verificar si cada elemento de la lista es positivo, negativo o cero\n",
    "    if i>0:\n",
    "        #contadores de cantidad si se cumple la condicion\n",
    "        conPos += 1\n",
    "        acumSuma += i\n",
    "    elif i<0:\n",
    "        conNeg += 1\n",
    "        acumResta += i\n",
    "    elif i == 0:\n",
    "        conCero += 1\n",
    "\n",
    "\n",
    "#impresion de resultados\n",
    "print(\"Positivos: \", conPos)\n",
    "print(\"Suma de positivos: \", acumSuma)\n",
    "print(\"Negativos: \", conNeg)\n",
    "print(\"Resta negativos: \", acumResta)\n",
    "print(\"Ceros: \", conCero)\n"
   ]
  },
  {
   "cell_type": "code",
   "execution_count": null,
   "metadata": {},
   "outputs": [],
   "source": []
  }
 ],
 "metadata": {
  "kernelspec": {
   "display_name": "Python 3.9.2 64-bit",
   "language": "python",
   "name": "python3"
  },
  "language_info": {
   "codemirror_mode": {
    "name": "ipython",
    "version": 3
   },
   "file_extension": ".py",
   "mimetype": "text/x-python",
   "name": "python",
   "nbconvert_exporter": "python",
   "pygments_lexer": "ipython3",
   "version": "3.9.2"
  },
  "orig_nbformat": 4,
  "vscode": {
   "interpreter": {
    "hash": "2b3401e4de645694a69141f2204c1ff9232f239e2074c8aa57b46c27c58af83f"
   }
  }
 },
 "nbformat": 4,
 "nbformat_minor": 2
}
