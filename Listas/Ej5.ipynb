{
 "cells": [
  {
   "cell_type": "code",
   "execution_count": null,
   "metadata": {},
   "outputs": [],
   "source": [
    "\"\"\"\n",
    "    calcular la nota máxima y nota mínima de cada estudiante del curso de programación. Recordar que\n",
    "    por cada estudiante al almacena 5 notas, las dos primeras son evaluaciones que equivalen al 30%\n",
    "    de la nota final, la tercera y cuarta nota es de trabajos y equivale el 10% y la ultima nota es examen\n",
    "    final que equivale al 60%. Al final por cada estudiante se debe mostrar su nombre, sus notas y su nota\n",
    "    máxima y minima. el curso esta conformada por un total de 20\n",
    "    aprendices en total y con rango de notas que van de 1 al 10 en su escala.\n",
    "\n",
    "\"\"\"\n",
    "#Comparadores para las notas\n",
    "notaMayor = 1\n",
    "notaMenor = 10\n",
    "\n",
    "#ciclo que se repetira para 20 estudiantes\n",
    "for i in range(20):\n",
    "\n",
    "    #solicitud de nombre\n",
    "    nombre = input(\"Nombre: \")\n",
    "    \n",
    "    #ciclo que pedira las notas\n",
    "    for j in range(5):\n",
    "\n",
    "        #solicitud de nota\n",
    "        nota = float(input(\"Ingrese su nota: \"))\n",
    "        \n",
    "        #impresion de cada nota\n",
    "        print(f\"Nota {j+1}: {nota}\")\n",
    "\n",
    "        #condicion para saber cual fue la nota mayor y menor\n",
    "        if nota > notaMayor:\n",
    "            notaMayor = nota\n",
    "        if nota < notaMenor:\n",
    "            notaMenor = nota\n",
    "    #muestra de resultados\n",
    "    print(f\"Nota maxima de {nombre}: {notaMayor}\")\n",
    "    print(f\"Nota minima de {nombre}: {notaMenor}\")"
   ]
  },
  {
   "cell_type": "code",
   "execution_count": null,
   "metadata": {},
   "outputs": [],
   "source": []
  }
 ],
 "metadata": {
  "kernelspec": {
   "display_name": "Python 3.9.2 64-bit",
   "language": "python",
   "name": "python3"
  },
  "language_info": {
   "codemirror_mode": {
    "name": "ipython",
    "version": 3
   },
   "file_extension": ".py",
   "mimetype": "text/x-python",
   "name": "python",
   "nbconvert_exporter": "python",
   "pygments_lexer": "ipython3",
   "version": "3.9.2"
  },
  "orig_nbformat": 4,
  "vscode": {
   "interpreter": {
    "hash": "2b3401e4de645694a69141f2204c1ff9232f239e2074c8aa57b46c27c58af83f"
   }
  }
 },
 "nbformat": 4,
 "nbformat_minor": 2
}
