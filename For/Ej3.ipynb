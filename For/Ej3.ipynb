{
 "cells": [
  {
   "cell_type": "code",
   "execution_count": 36,
   "metadata": {},
   "outputs": [
    {
     "name": "stdout",
     "output_type": "stream",
     "text": [
      "No fueron encuestados ningun estudiante.\n"
     ]
    }
   ],
   "source": [
    "\"\"\"\n",
    "    La Universidad del Valle requiere un programa que le permita conocer cómo califican los estudiantes\n",
    "    la comida de la cafetería central. Para ello definió una escala de 1 a 10 (1 denota horrible y 10 denota\n",
    "    excelente). El programa debe ser capaz capturar la calificación de cualquier número de estudiantes\n",
    "    (no se sabe cuántos estudiantes se encuestarán, así que cuando el encuestador ingrese la calificación\n",
    "    de 0, se sabrá que la encuesta habrá concluido). El programa deberá mostrar en su salida cuántos\n",
    "    estudiantes fueron encuestados, así como el resumen de la encuesta como el promedio y cuál es la\n",
    "    nota más alta dada y la nota más baja dada en la encuesta efectuada.\n",
    "\n",
    "    NOTA: No se pueden hacer bucles infinitos con FOR, el ejercicio no se puede resolver con el ciclo FOR\n",
    "    \n",
    "\"\"\"\n",
    "#contador de estudiantes y acumuladores para saber la nota mayor y menor dada\n",
    "conEst = 0\n",
    "acumPro = 0\n",
    "acumMenor = 10\n",
    "acumMayor = 0\n",
    "\n",
    "#calificacion inicializada en 1 para que el ciclo sea iniciado\n",
    "calf = 1\n",
    "\n",
    "#inicio del ciclo mientras la nota se mantenga en los parametros propuestos\n",
    "while calf > 0 and calf <= 10:\n",
    "\n",
    "    #Solicitud de calificacion\n",
    "    calf = int(input(\"Ingrese su calificacion: \"))\n",
    "    \n",
    "    #(Doble validacion innecesaria) Condicion para terminar el bucle si es necesario\n",
    "    if calf == 0 or calf > 10:\n",
    "        break\n",
    "    \n",
    "    #condicion para sacar la nota menor\n",
    "    if calf < acumMenor:\n",
    "        acumMenor = calf\n",
    "    \n",
    "    #condicion para sacar la nota mayor\n",
    "    elif calf > acumMayor:\n",
    "        acumMayor = calf\n",
    "\n",
    "    #acumulador de calificaciones para el promedio\n",
    "    acumPro += calf\n",
    "\n",
    "    #cantidad de encuestados\n",
    "    conEst += 1\n",
    "\n",
    "#condicion para validar que no sean 0 encuestados y genere un error al sacar el promedio por la division entre cero\n",
    "if conEst == 0:\n",
    "    print(\"No fueron encuestados ningun estudiante.\")\n",
    "else:\n",
    "    \n",
    "    #muestra de resultados\n",
    "    prom = acumPro/conEst\n",
    "    print(f\"Fueron encuestados {conEst}\")\n",
    "    print(f\"Nota mayor: {acumMayor}\")\n",
    "    print(f\"Nota menor: {acumMenor}\")\n",
    "    print(f\"Promedio: {prom}\")"
   ]
  },
  {
   "cell_type": "code",
   "execution_count": null,
   "metadata": {},
   "outputs": [],
   "source": []
  }
 ],
 "metadata": {
  "kernelspec": {
   "display_name": "Python 3.9.2 64-bit",
   "language": "python",
   "name": "python3"
  },
  "language_info": {
   "codemirror_mode": {
    "name": "ipython",
    "version": 3
   },
   "file_extension": ".py",
   "mimetype": "text/x-python",
   "name": "python",
   "nbconvert_exporter": "python",
   "pygments_lexer": "ipython3",
   "version": "3.9.2"
  },
  "orig_nbformat": 4,
  "vscode": {
   "interpreter": {
    "hash": "2b3401e4de645694a69141f2204c1ff9232f239e2074c8aa57b46c27c58af83f"
   }
  }
 },
 "nbformat": 4,
 "nbformat_minor": 2
}
