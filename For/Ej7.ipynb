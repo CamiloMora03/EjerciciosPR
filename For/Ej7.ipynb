{
 "cells": [
  {
   "cell_type": "code",
   "execution_count": 18,
   "metadata": {},
   "outputs": [
    {
     "name": "stdout",
     "output_type": "stream",
     "text": [
      "El seno de 0.7853981633974483 radianes es 0.718309294064295\n"
     ]
    }
   ],
   "source": [
    "\"\"\"\n",
    "    Diseñe un pseudocódigo que lea el valor de un ángulo expresado en radianes y calcule e imprima el\n",
    "    valor del seno de dicho ángulo. Se leerá también el número de términos de la serie.\n",
    "    SEN(X) = X - ( X 3 / 3 ! ) + ( X 5 / 5 ! ) - (X7/ 7!) + .....\n",
    "\n",
    "    NOTA: omito la explicacion para no entrar en conceptos matematicos\n",
    "\"\"\"\n",
    "\n",
    "from math import pi\n",
    "ang = float(input(\"Ingrese el valor del angulo a convertir: \"))\n",
    "radianes = ang*(pi/180)\n",
    "\n",
    "term = int(input(\"Ingrese la cantidad de terminos que tendra la serie: \"))\n",
    "signo = 1\n",
    "senx = radianes\n",
    "\n",
    "for i in range(3, term):\n",
    "\n",
    "    H = 1\n",
    "    fact = 1\n",
    "\n",
    "    while H <= i:\n",
    "        fact = fact * H\n",
    "        H += 1\n",
    "    \n",
    "    if signo%2 == 1:\n",
    "        senx = senx - (radianes**i)/fact\n",
    "    else:\n",
    "        senx = senx + (radianes**i)/fact \n",
    "    signo += 1\n",
    "\n",
    "print(f\"El seno de {radianes} radianes es {senx}\")\n"
   ]
  },
  {
   "cell_type": "code",
   "execution_count": null,
   "metadata": {},
   "outputs": [],
   "source": []
  },
  {
   "cell_type": "code",
   "execution_count": null,
   "metadata": {},
   "outputs": [],
   "source": []
  }
 ],
 "metadata": {
  "kernelspec": {
   "display_name": "Python 3.9.2 64-bit",
   "language": "python",
   "name": "python3"
  },
  "language_info": {
   "codemirror_mode": {
    "name": "ipython",
    "version": 3
   },
   "file_extension": ".py",
   "mimetype": "text/x-python",
   "name": "python",
   "nbconvert_exporter": "python",
   "pygments_lexer": "ipython3",
   "version": "3.9.2"
  },
  "orig_nbformat": 4,
  "vscode": {
   "interpreter": {
    "hash": "2b3401e4de645694a69141f2204c1ff9232f239e2074c8aa57b46c27c58af83f"
   }
  }
 },
 "nbformat": 4,
 "nbformat_minor": 2
}
