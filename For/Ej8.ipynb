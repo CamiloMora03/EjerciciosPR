{
 "cells": [
  {
   "cell_type": "code",
   "execution_count": 13,
   "metadata": {},
   "outputs": [
    {
     "name": "stdout",
     "output_type": "stream",
     "text": [
      "1\n",
      "2\n",
      "6\n",
      "6\n",
      "12\n",
      "36\n",
      "36\n",
      "72\n",
      "216\n",
      "216\n",
      "Suma:  19\n",
      "Resta:  -19\n",
      "Multiplicacion:  216\n",
      "Division:  0.004629629629629629\n"
     ]
    }
   ],
   "source": [
    "\"\"\"\n",
    "    Hacer un algoritmo que al ingresar N números por la pantalla y se calcule la suma, resta,\n",
    "    multiplicación y división. El proceso debe terminar cuando se hallan realizado 10 procesos (Hacer uso\n",
    "    de contadores).\n",
    "\"\"\"\n",
    "\n",
    "#Acumuladores de cada operacion\n",
    "acumSuma = 0\n",
    "acumResta = 0\n",
    "acumMult = 1\n",
    "acumDiv = 1\n",
    "\n",
    "#ciclo para que las operaciones se hagan diez veces\n",
    "for i in range(1,11):\n",
    "    \n",
    "    #se solicita un numero\n",
    "    ns = int(input(\"Ingrese un numero: \"))\n",
    "\n",
    "    #se operan los numeros ingresados conforme se repite el ciclo\n",
    "    acumSuma += ns\n",
    "    acumResta -= ns\n",
    "    acumMult = acumMult * ns\n",
    "    acumDiv = acumDiv / ns\n",
    "\n",
    "#se muestran los resultados\n",
    "print(\"Suma: \", acumSuma)\n",
    "print(\"Resta: \", acumResta)\n",
    "print(\"Multiplicacion: \", acumMult )\n",
    "print(\"Division: \", acumDiv)"
   ]
  },
  {
   "cell_type": "code",
   "execution_count": null,
   "metadata": {},
   "outputs": [],
   "source": []
  }
 ],
 "metadata": {
  "kernelspec": {
   "display_name": "Python 3.9.2 64-bit",
   "language": "python",
   "name": "python3"
  },
  "language_info": {
   "codemirror_mode": {
    "name": "ipython",
    "version": 3
   },
   "file_extension": ".py",
   "mimetype": "text/x-python",
   "name": "python",
   "nbconvert_exporter": "python",
   "pygments_lexer": "ipython3",
   "version": "3.9.2"
  },
  "orig_nbformat": 4,
  "vscode": {
   "interpreter": {
    "hash": "2b3401e4de645694a69141f2204c1ff9232f239e2074c8aa57b46c27c58af83f"
   }
  }
 },
 "nbformat": 4,
 "nbformat_minor": 2
}
