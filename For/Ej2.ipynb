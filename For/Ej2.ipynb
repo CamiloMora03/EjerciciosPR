{
 "cells": [
  {
   "cell_type": "code",
   "execution_count": 3,
   "metadata": {},
   "outputs": [
    {
     "name": "stdout",
     "output_type": "stream",
     "text": [
      "1\n",
      "5\n",
      "3\n",
      "7\n",
      "5\n",
      "9\n",
      "7\n",
      "11\n",
      "9\n",
      "13\n",
      "11\n",
      "15\n",
      "13\n",
      "17\n",
      "15\n",
      "19\n",
      "17\n",
      "21\n",
      "19\n",
      "23\n",
      "21\n",
      "25\n",
      "23\n",
      "27\n"
     ]
    }
   ],
   "source": [
    "\"\"\"\n",
    "Generar la serie: 1, 5, 3, 7, 5, 9, 7, ..., 23\n",
    "\n",
    "EXPLICACION DEL PROCESO\n",
    "\n",
    "Identificamos que en la serie las posiciones pares son mayores y entre cada dos posicion hacia la derecha tienen una diferencia numérica de 4\n",
    "entonces tenemos que hacer que en cada posicion i par, aumente de a cuatro compensado la diferencia, y en la posición \n",
    "siguiente i impar disminuya dos unidades numericas  \n",
    "\n",
    "//////////////////////////////////////////////------------------1er ciclo------------------/////////////////////////////////////////////\n",
    "\n",
    "    i = 1\n",
    "    acum = 1\n",
    "\n",
    "    if 1%2 != 0: True → 1%2=1 (1 modulo 2 es igual a 1 y 1 != 0 uno es diferente de cero por lo tanto es cierto)\n",
    "        acum = 1 + 4 → acum = 5\n",
    "    else:\n",
    "        acum -= 2 → Salta esta parte\n",
    "    \n",
    "    //////////////////////////////////////////////------------------2do ciclo------------------/////////////////////////////////////////////\n",
    "    i = 2\n",
    "    acum = 5\n",
    "\n",
    "    if 2%2 != 0: False → 2%2=0 \n",
    "        acum += 4\n",
    "    else: True\n",
    "        acum = 5 - 2 → acum = 3\n",
    "\n",
    "    El mismo proceso de manera su sucesiva\n",
    "\n",
    "\n",
    "\"\"\"\n",
    "#acumulador para la serie\n",
    "acum = 1\n",
    "\n",
    "#se imprime para tener el primer elemento de la serie\n",
    "print(acum)\n",
    "\n",
    "#se crea un bucle que se repita las 23 veces solicitadas\n",
    "for i in range(1,24):\n",
    "\n",
    "    #condicion para que en cada posicion impar aumente de a 4\n",
    "    if i%2 != 0:\n",
    "        #cuando i sea impar, suma 4 al acumulador \n",
    "        acum += 4\n",
    "    else:\n",
    "        #si es par, cada posición par disminuirá de a dos \n",
    "        acum -= 2\n",
    "    \n",
    "    print(acum)\n"
   ]
  },
  {
   "cell_type": "code",
   "execution_count": null,
   "metadata": {},
   "outputs": [],
   "source": []
  }
 ],
 "metadata": {
  "kernelspec": {
   "display_name": "Python 3.9.2 64-bit",
   "language": "python",
   "name": "python3"
  },
  "language_info": {
   "codemirror_mode": {
    "name": "ipython",
    "version": 3
   },
   "file_extension": ".py",
   "mimetype": "text/x-python",
   "name": "python",
   "nbconvert_exporter": "python",
   "pygments_lexer": "ipython3",
   "version": "3.9.2"
  },
  "orig_nbformat": 4,
  "vscode": {
   "interpreter": {
    "hash": "2b3401e4de645694a69141f2204c1ff9232f239e2074c8aa57b46c27c58af83f"
   }
  }
 },
 "nbformat": 4,
 "nbformat_minor": 2
}
