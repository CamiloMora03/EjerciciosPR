{
 "cells": [
  {
   "cell_type": "code",
   "execution_count": 8,
   "metadata": {},
   "outputs": [
    {
     "name": "stdout",
     "output_type": "stream",
     "text": [
      "Mes 1: 10\n",
      "Mes 2: 20\n",
      "Mes 3: 30\n",
      "Mes 4: 40\n",
      "Mes 5: 50\n",
      "Mes 6: 60\n",
      "Mes 7: 70\n",
      "Mes 8: 80\n",
      "Mes 9: 90\n",
      "Mes 10: 100\n",
      "Mes 11: 110\n",
      "Mes 12: 120\n",
      "Mes 13: 130\n",
      "Mes 14: 140\n",
      "Mes 15: 150\n",
      "Mes 16: 160\n",
      "Mes 17: 170\n",
      "Mes 18: 180\n",
      "Mes 19: 190\n",
      "Mes 20: 200\n",
      "Total pagos: 2100\n"
     ]
    }
   ],
   "source": [
    "\"\"\"\n",
    "    Una persona adquirió un producto para pagar en 20 meses. El primer mes pagó $10, el segundo $20,\n",
    "    el tercero $40 y así sucesivamente. Realice un algoritmo para determinar cuánto debe pagar\n",
    "    mensualmente y el total de lo que pagó después de los 20 meses y represéntelo mediante\n",
    "    pseudocódigo y el utilizando el ciclo apropiado.\n",
    "\"\"\"\n",
    "#acumuladres para los pagos\n",
    "pago = 0\n",
    "acumPago = 0\n",
    "pagos = 0\n",
    "#ciclo para los meses\n",
    "for i in range(1,21):\n",
    "    \n",
    "    #Aumenta de diez cada mes\n",
    "    pago += 10\n",
    "    \n",
    "    #Acumula el total de los pagos\n",
    "    pagos += pago\n",
    "    \n",
    "    #muestra lo que paga cada mes\n",
    "    print(f\"Mes {i}: {pago}\")\n",
    "    \n",
    "#muestra el total del pago\n",
    "print(f\"Total pagos: {pagos}\")"
   ]
  },
  {
   "cell_type": "code",
   "execution_count": null,
   "metadata": {},
   "outputs": [],
   "source": []
  }
 ],
 "metadata": {
  "kernelspec": {
   "display_name": "Python 3.9.2 64-bit",
   "language": "python",
   "name": "python3"
  },
  "language_info": {
   "codemirror_mode": {
    "name": "ipython",
    "version": 3
   },
   "file_extension": ".py",
   "mimetype": "text/x-python",
   "name": "python",
   "nbconvert_exporter": "python",
   "pygments_lexer": "ipython3",
   "version": "3.9.2"
  },
  "orig_nbformat": 4,
  "vscode": {
   "interpreter": {
    "hash": "2b3401e4de645694a69141f2204c1ff9232f239e2074c8aa57b46c27c58af83f"
   }
  }
 },
 "nbformat": 4,
 "nbformat_minor": 2
}
