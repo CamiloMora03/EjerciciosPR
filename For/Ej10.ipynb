{
 "cells": [
  {
   "cell_type": "code",
   "execution_count": 16,
   "metadata": {},
   "outputs": [
    {
     "name": "stdout",
     "output_type": "stream",
     "text": [
      "1² +  2² +  3² +  4² +  5² = 55.0\n",
      "1^1 +  2^2 +  3^3 +  4^4 +  5^5 = 3413\n"
     ]
    }
   ],
   "source": [
    "\"\"\"\n",
    "    Construya los algoritmos que permitan calcular las siguientes series con un valor de N ingresado\n",
    "    desde teclado:\n",
    "    1² + 2² + 3² +...+ N²\n",
    "    tal que N es positivo\n",
    "    \n",
    "    1¹+2²+3³+...+N^n\n",
    "    tal que N es positivo\n",
    "\n",
    "    NOTA: Omito explicacion para no entrar en conceptos matematicos\n",
    "\"\"\"\n",
    "\n",
    "num = int(input(\"Ingrese un numero para calcular la serie: \"))\n",
    "acum = 0\n",
    "totalS1 = (num * (num + 1) * (2 * num + 1)) / 6\n",
    "for i in range(1, num + 1):\n",
    "    if(i != num):\n",
    "        \n",
    "        print(f\"{i}² + \", end = ' ')\n",
    "    else:\n",
    "        print(f\"{i}² = {totalS1}\")\n",
    "\n",
    "for j in range(1, num + 1):\n",
    "    totalS2 =  j**j\n",
    "    acum += totalS2\n",
    "    if(j != num):\n",
    "        \n",
    "        print(f\"{j}^{j} + \", end = ' ')\n",
    "    else:\n",
    "        print(f\"{j}^{j} = {acum}\")\n"
   ]
  },
  {
   "cell_type": "code",
   "execution_count": null,
   "metadata": {},
   "outputs": [],
   "source": []
  }
 ],
 "metadata": {
  "kernelspec": {
   "display_name": "Python 3.9.2 64-bit",
   "language": "python",
   "name": "python3"
  },
  "language_info": {
   "codemirror_mode": {
    "name": "ipython",
    "version": 3
   },
   "file_extension": ".py",
   "mimetype": "text/x-python",
   "name": "python",
   "nbconvert_exporter": "python",
   "pygments_lexer": "ipython3",
   "version": "3.9.2"
  },
  "orig_nbformat": 4,
  "vscode": {
   "interpreter": {
    "hash": "2b3401e4de645694a69141f2204c1ff9232f239e2074c8aa57b46c27c58af83f"
   }
  }
 },
 "nbformat": 4,
 "nbformat_minor": 2
}
