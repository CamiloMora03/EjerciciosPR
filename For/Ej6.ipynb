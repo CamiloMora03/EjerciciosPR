{
 "cells": [
  {
   "cell_type": "code",
   "execution_count": null,
   "metadata": {},
   "outputs": [],
   "source": [
    "\"\"\"\n",
    "    En una empresa de 100 trabajadores, se hará un aumento al salario de acuerdo al tiempo de servicio,\n",
    "    para este aumento se tomará en cuenta lo siguiente:\n",
    "    - Tiempo de servicio: de 1 a 5 años Aumento: 100 PESOS\n",
    "    - Tiempo de servicio: de 5 a 10 años Aumento: 250 PESOS\n",
    "    - Tiempo de servicio: de 10 a 20 años Aumento: 400 PESOS.\n",
    "    - Tiempo de servicio: de 20 años a más Aumento: 550 PESOS.\n",
    "\"\"\"\n",
    "numTra = 100\n",
    "aumento = 0\n",
    "cont = 0\n",
    "while numTra > 0:\n",
    "    cont += 1\n",
    "    tiempoServ = int(input(\"Ingrese su tiempo de servicio: \"))\n",
    "    if tiempoServ >= 1 and tiempoServ <= 5:\n",
    "        aumento = 100\n",
    "    elif tiempoServ > 5 and tiempoServ <= 10:\n",
    "        aumento = 250\n",
    "    elif tiempoServ > 10 and tiempoServ <= 20:\n",
    "        aumento = 400\n",
    "    elif tiempoServ > 20:\n",
    "        aumento = 550\n",
    "    numTra -= 1\n",
    "    print(f\"Su aumento es de {aumento}\")"
   ]
  },
  {
   "cell_type": "code",
   "execution_count": null,
   "metadata": {},
   "outputs": [],
   "source": []
  }
 ],
 "metadata": {
  "kernelspec": {
   "display_name": "Python 3.9.2 64-bit",
   "language": "python",
   "name": "python3"
  },
  "language_info": {
   "codemirror_mode": {
    "name": "ipython",
    "version": 3
   },
   "file_extension": ".py",
   "mimetype": "text/x-python",
   "name": "python",
   "nbconvert_exporter": "python",
   "pygments_lexer": "ipython3",
   "version": "3.9.2"
  },
  "orig_nbformat": 4,
  "vscode": {
   "interpreter": {
    "hash": "2b3401e4de645694a69141f2204c1ff9232f239e2074c8aa57b46c27c58af83f"
   }
  }
 },
 "nbformat": 4,
 "nbformat_minor": 2
}
