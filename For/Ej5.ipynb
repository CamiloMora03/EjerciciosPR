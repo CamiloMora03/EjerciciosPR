{
 "cells": [
  {
   "cell_type": "code",
   "execution_count": 5,
   "metadata": {},
   "outputs": [
    {
     "name": "stdout",
     "output_type": "stream",
     "text": [
      "Mayores que mil:  1\n",
      "Menores que mil:  3\n",
      "Entre mil y quinientos:  1\n",
      "Total:  4320\n"
     ]
    }
   ],
   "source": [
    "\"\"\"\n",
    "    Un empleado de la tienda “Tiki Taka” realiza N ventas durante el día, se requiere saber cuántas de\n",
    "    ellas fueron mayores a $1000, cuántas fueron mayores a $500 pero menores o iguales a $1000, y\n",
    "    cuántas fueron menores o iguales a $500. Además, se requiere saber el monto de lo vendido en cada\n",
    "    categoría y de forma global. Realice un algoritmo que permita determinar lo anterior.\n",
    "\"\"\"\n",
    "\n",
    "\n",
    "#Solicita la cantidad de ventas hechas para saber la cantidad de repeticiones en el ciclo\n",
    "n = int(input(\"Ingrese la cantidad de ventas: \" ))\n",
    "\n",
    "#Contador de ventas mayores a mil, menores y entre ellas respectivamente\n",
    "conMaM = 0\n",
    "conMeM = 0\n",
    "conMMM = 0\n",
    "acumTotal = 0\n",
    "\n",
    "#ciclo con la cantidad de ventas agregadas\n",
    "while n > 0:\n",
    "\n",
    "    #Ingresar el valor de cada venta\n",
    "    valor = int(input(\"Ingrese el valor de la venta: \"))\n",
    "    #conidicion para categorizar las ventas\n",
    "    if valor > 1000:\n",
    "        #aumentar en uno cada contador si se cumple la condicion\n",
    "        conMaM += 1\n",
    "    elif valor < 1000 and valor > 500:\n",
    "        conMMM += 1\n",
    "    elif valor < 500:\n",
    "        conMeM += 1\n",
    "\n",
    "    #Acumulador para la catidad total\n",
    "    acumTotal += valor\n",
    "    \n",
    "    #Se disminuye la cantidad de n ventas para no entrar en un bucle infinito\n",
    "    n -= 1\n",
    "\n",
    "#Se muestran los resultados\n",
    "print(\"Mayores que mil: \",conMaM)\n",
    "print(\"Menores que mil: \",conMeM)\n",
    "print(\"Entre mil y quinientos: \",conMMM)\n",
    "print(\"Total: \", acumTotal)\n",
    "\n",
    "\n",
    "\n"
   ]
  },
  {
   "cell_type": "code",
   "execution_count": null,
   "metadata": {},
   "outputs": [],
   "source": []
  }
 ],
 "metadata": {
  "kernelspec": {
   "display_name": "Python 3.9.2 64-bit",
   "language": "python",
   "name": "python3"
  },
  "language_info": {
   "codemirror_mode": {
    "name": "ipython",
    "version": 3
   },
   "file_extension": ".py",
   "mimetype": "text/x-python",
   "name": "python",
   "nbconvert_exporter": "python",
   "pygments_lexer": "ipython3",
   "version": "3.9.2"
  },
  "orig_nbformat": 4,
  "vscode": {
   "interpreter": {
    "hash": "2b3401e4de645694a69141f2204c1ff9232f239e2074c8aa57b46c27c58af83f"
   }
  }
 },
 "nbformat": 4,
 "nbformat_minor": 2
}
