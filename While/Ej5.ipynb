{
 "cells": [
  {
   "cell_type": "code",
   "execution_count": 2,
   "metadata": {},
   "outputs": [
    {
     "name": "stdout",
     "output_type": "stream",
     "text": [
      "Derecho a presentar:  2\n",
      "No tiene derecho a presentar:  1\n"
     ]
    }
   ],
   "source": [
    "\"\"\"\n",
    "    El profesor de una materia desea conocer la cantidad de sus alumnos que no tienen derecho al examen \n",
    "    de nivelación. Diseñe un pseudocódigo que lea las calificaciones obtenidas en las 5 unidades por cada \n",
    "    uno de los 40 alumnos y escriba la cantidad de ellos que no tienen derecho al examen de nivelación.\n",
    "\n",
    "\"\"\"\n",
    "#contador para considerar la cantidad de estudiantes que hay\n",
    "estudiantes = 0\n",
    "\n",
    "#contador de quienes no tienen derecho a presentar\n",
    "nPe = 0\n",
    "\n",
    "#Contador de quienes tiene derecho a presentar \n",
    "pE = 0\n",
    "\n",
    "#Ciclo que hara el proceso para los 40 estudiantes\n",
    "while estudiantes < 40:\n",
    "\n",
    "    #se solicitan las cinco notas\n",
    "    nota1 = float(input(\"Ingrese su nota (1): \"))\n",
    "    nota2 = float(input(\"Ingrese su nota (2): \"))\n",
    "    nota3 = float(input(\"Ingrese su nota (3): \"))\n",
    "    nota4 = float(input(\"Ingrese su nota (4): \"))\n",
    "    nota5 = float(input(\"Ingrese su nota (5): \"))\n",
    "\n",
    "    #se saca el promedio de cada estudiante\n",
    "    prome = (nota1 + nota2 + nota3 + nota4 + nota5)/5\n",
    "\n",
    "    #condicion para saber quien tiene derecho a el examen\n",
    "    if prome < 2.5:\n",
    "\n",
    "        #Acumulador para saber cuando no tienen el derecho\n",
    "        nPe += 1\n",
    "    else:\n",
    "\n",
    "        #acumulador para saber quienes tienen el derecho\n",
    "        pE += 1\n",
    "        \n",
    "    #aumenta para no entrar en un bucle infinito\n",
    "    estudiantes += 1\n",
    "\n",
    "#se muestran los resultados\n",
    "print(\"Derecho a presentar: \", pE)\n",
    "print(\"No tiene derecho a presentar: \", nPe )"
   ]
  },
  {
   "cell_type": "code",
   "execution_count": null,
   "metadata": {},
   "outputs": [],
   "source": []
  }
 ],
 "metadata": {
  "kernelspec": {
   "display_name": "Python 3.9.2 64-bit",
   "language": "python",
   "name": "python3"
  },
  "language_info": {
   "codemirror_mode": {
    "name": "ipython",
    "version": 3
   },
   "file_extension": ".py",
   "mimetype": "text/x-python",
   "name": "python",
   "nbconvert_exporter": "python",
   "pygments_lexer": "ipython3",
   "version": "3.9.2"
  },
  "orig_nbformat": 4,
  "vscode": {
   "interpreter": {
    "hash": "2b3401e4de645694a69141f2204c1ff9232f239e2074c8aa57b46c27c58af83f"
   }
  }
 },
 "nbformat": 4,
 "nbformat_minor": 2
}
