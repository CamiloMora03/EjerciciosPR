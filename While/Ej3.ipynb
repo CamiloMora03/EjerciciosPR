{
 "cells": [
  {
   "cell_type": "code",
   "execution_count": 3,
   "metadata": {},
   "outputs": [
    {
     "name": "stdout",
     "output_type": "stream",
     "text": [
      "4.5\n"
     ]
    }
   ],
   "source": [
    "\"\"\"\"\n",
    "    Programa para solicitar el nombre, apellido, edad y la nota promedio de 5 estudiantes de un curso de \n",
    "    computación.\n",
    "\n",
    "\"\"\"\n",
    "\n",
    "#Acumulador para considerar las repeticiones del ciclo\n",
    "a = 0\n",
    "\n",
    "#prom = 0\n",
    "#ciclo que se repite cinco veces\n",
    "while a < 5:\n",
    "\n",
    "    #solicitud de datos requeridos\n",
    "    nombre = input(\"Ingrese el nombre y apellido: \")\n",
    "    edad = int(input(\"Ingrese su edad: \"))\n",
    "    nota = float(input(\"Ingrese su nota: \"))\n",
    "    #prom += nota\n",
    "    #contador de ciclo para que no entre en bucle infinito\n",
    "    a+=1\n",
    "#print(prom/5)"
   ]
  },
  {
   "cell_type": "code",
   "execution_count": null,
   "metadata": {},
   "outputs": [],
   "source": []
  }
 ],
 "metadata": {
  "kernelspec": {
   "display_name": "Python 3.9.2 64-bit",
   "language": "python",
   "name": "python3"
  },
  "language_info": {
   "codemirror_mode": {
    "name": "ipython",
    "version": 3
   },
   "file_extension": ".py",
   "mimetype": "text/x-python",
   "name": "python",
   "nbconvert_exporter": "python",
   "pygments_lexer": "ipython3",
   "version": "3.9.2"
  },
  "orig_nbformat": 4,
  "vscode": {
   "interpreter": {
    "hash": "2b3401e4de645694a69141f2204c1ff9232f239e2074c8aa57b46c27c58af83f"
   }
  }
 },
 "nbformat": 4,
 "nbformat_minor": 2
}
