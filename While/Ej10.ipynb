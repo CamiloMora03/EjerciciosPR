{
 "cells": [
  {
   "cell_type": "code",
   "execution_count": 2,
   "metadata": {},
   "outputs": [
    {
     "name": "stdout",
     "output_type": "stream",
     "text": [
      "Turismo: 20.0%\n",
      "Autobus: 26.0%\n",
      "Camión: 29.0%\n",
      "Moto: 25.0%\n"
     ]
    }
   ],
   "source": [
    "\"\"\"\n",
    "\n",
    "    Se está realizando un estudio del tráfico en una de las calles de su ciudad. Para ello deberá controlar\n",
    "    durante un cierto tiempo los vehículos que pasan por dicha calle.\n",
    "    Los distintos tipos de vehículo será: Turismo, Autobús, Camión o Motocicleta. Además, si el tipo de\n",
    "    vehículo es Turismo debe anotar el número de ocupantes.\n",
    "    El programa deberá contar 200 vehículos, e ir guardando cuantos pasan de cada tipo.\n",
    "    Finalmente mostrará el porcentaje de cada uno de los tipos.\n",
    "\n",
    "    % = cant * 100 / total\n",
    "\"\"\"\n",
    "\n",
    "#se importa de la libreria random la funcion choice para seleccionar elementos aleatorio de una lista \n",
    "from random import choice\n",
    "\n",
    "#se define la lista\n",
    "clase = ['Turismo','Autobús','Camión','Motocicleta']\n",
    "\n",
    "#se define la cantidad de carros\n",
    "cantVehi = 200\n",
    "\n",
    "#contador para cada clase de vehiculo\n",
    "contTur = 0\n",
    "contBus = 0\n",
    "contCam = 0\n",
    "contMoto = 0\n",
    "\n",
    "#ciclo que se repite hasta que pasen los 200 vehiculos propuestos\n",
    "while cantVehi > 0:\n",
    "\n",
    "    #se asigna en una variable el valor del vehiculo seleccionado aleatoriamente\n",
    "    auto = choice(clase)\n",
    "\n",
    "    #condicion para comparar que vehiculo haya seleccionado y sumarlo de forma correspondiente\n",
    "    if auto == clase[0]:\n",
    "        contTur += 1\n",
    "    elif auto == clase[1]:\n",
    "        contBus += 1\n",
    "    elif auto == clase[2]:\n",
    "        contCam += 1\n",
    "    elif auto == clase[3]:\n",
    "        contMoto += 1\n",
    "    \n",
    "    #se reduce el contador de vehiculos para no entrar en un bucle infinito\n",
    "    cantVehi -= 1\n",
    "    \n",
    "#se determina el porcentaje de vehiculos que han transitado\n",
    "porcTur = contTur / 2\n",
    "porcBus = contBus / 2\n",
    "porcCam = contCam / 2\n",
    "porcMoto = contMoto / 2\n",
    "\n",
    "#se muestran los resultados\n",
    "print(f\"Turismo: {porcTur}%\")\n",
    "print(f\"Autobus: {porcBus}%\")\n",
    "print(f\"Camión: {porcCam}%\")\n",
    "print(f\"Moto: {porcMoto}%\")\n",
    "\n"
   ]
  },
  {
   "cell_type": "code",
   "execution_count": null,
   "metadata": {},
   "outputs": [],
   "source": []
  }
 ],
 "metadata": {
  "kernelspec": {
   "display_name": "Python 3.9.2 64-bit",
   "language": "python",
   "name": "python3"
  },
  "language_info": {
   "codemirror_mode": {
    "name": "ipython",
    "version": 3
   },
   "file_extension": ".py",
   "mimetype": "text/x-python",
   "name": "python",
   "nbconvert_exporter": "python",
   "pygments_lexer": "ipython3",
   "version": "3.9.2"
  },
  "orig_nbformat": 4,
  "vscode": {
   "interpreter": {
    "hash": "2b3401e4de645694a69141f2204c1ff9232f239e2074c8aa57b46c27c58af83f"
   }
  }
 },
 "nbformat": 4,
 "nbformat_minor": 2
}
