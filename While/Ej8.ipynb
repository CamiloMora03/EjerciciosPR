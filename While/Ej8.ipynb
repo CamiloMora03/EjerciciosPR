{
 "cells": [
  {
   "cell_type": "code",
   "execution_count": 3,
   "metadata": {},
   "outputs": [
    {
     "name": "stdout",
     "output_type": "stream",
     "text": [
      "Promedio ponderado del estudiante: 4.545454545454546\n"
     ]
    }
   ],
   "source": [
    "\"\"\"\n",
    "    Diseñar un pseudocódigo que calcule el promedio ponderado para alumnos del ITT. El cálculo se hace\n",
    "    de la siguiente forma:\n",
    "    Se multiplica cada calificación por los créditos de cada materia\n",
    "    El resultado anterior se suma con los resultados de todas las materias, por separado se suman los\n",
    "    créditos de cada materia y finalmente se divide la suma de todas las materias por sus respectivos\n",
    "    créditos, entre la suma de todos los créditos. (materias: Fundamentos, BD y ética).\n",
    "\"\"\"\n",
    "\n",
    "#asigna un estado para saber donde terminar con el ciclo\n",
    "estado = 'y'\n",
    "#ciclo infinito hasta que se asigne n (no) para terminarlo\n",
    "while estado != 'n':\n",
    "\n",
    "    #Solicitud de datos de materias\n",
    "    notaFun = float(input(\"Ingrese la nota de fundamentos: \"))\n",
    "    credFun = int(input(\"Ingrese los creditos de la materia Fundamentos: \"))\n",
    "    notaBD = float(input(\"Ingrese la nota de Base de datos: \"))\n",
    "    credBD = int(input(\"Ingrese los creditos de Bases de datos: \"))\n",
    "    notaEtica = float(input(\"Ingrese la nota de Etica: \"))\n",
    "    credEtica = int(input(\"Ingrese los creditos de Etica: \"))\n",
    "\n",
    "    #Calculo de promedios\n",
    "    finFun = notaFun * credFun\n",
    "    finBD = notaBD * credBD\n",
    "    finEtica = notaEtica * credEtica\n",
    "    finCred = credBD + credEtica + credFun\n",
    "\n",
    "    #promedio ponderado\n",
    "    promPon = (finFun + finBD + finEtica) / finCred\n",
    "    \n",
    "    #Impresion de datos de cada alumno\n",
    "    print(f\"Promedio ponderado del estudiante: {round(promPon)}\")\n",
    "\n",
    "    #pregunta para continuar con el ciclo\n",
    "    estado = input(\"¿Desea agregar las notas de un alumno? (y/n): \")\n",
    "\n"
   ]
  },
  {
   "cell_type": "code",
   "execution_count": null,
   "metadata": {},
   "outputs": [],
   "source": []
  }
 ],
 "metadata": {
  "kernelspec": {
   "display_name": "Python 3.9.2 64-bit",
   "language": "python",
   "name": "python3"
  },
  "language_info": {
   "codemirror_mode": {
    "name": "ipython",
    "version": 3
   },
   "file_extension": ".py",
   "mimetype": "text/x-python",
   "name": "python",
   "nbconvert_exporter": "python",
   "pygments_lexer": "ipython3",
   "version": "3.9.2"
  },
  "orig_nbformat": 4,
  "vscode": {
   "interpreter": {
    "hash": "2b3401e4de645694a69141f2204c1ff9232f239e2074c8aa57b46c27c58af83f"
   }
  }
 },
 "nbformat": 4,
 "nbformat_minor": 2
}
