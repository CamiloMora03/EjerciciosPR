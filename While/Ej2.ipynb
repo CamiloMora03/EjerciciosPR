{
 "cells": [
  {
   "cell_type": "code",
   "execution_count": null,
   "metadata": {},
   "outputs": [],
   "source": [
    "\"\"\"\n",
    "    Hacer un algoritmo que al ingresar 2 números por la pantalla y se calcule la suma, resta, multiplicación \n",
    "    y división. El proceso debe terminar cuando se hallan realizado 10 procesos (Hacer uso de \n",
    "    contadores).\n",
    "\n",
    "\"\"\"\n",
    "\n",
    "#se ingresa un iniciador que llevara la cantidad de veces que se repetira el ciclo\n",
    "cantPro = 0\n",
    "\n",
    "#se inicia el ciclo hasta que cumple la cantidad de veces solicitadas\n",
    "while cantPro < 10:\n",
    "\n",
    "    #se solicitan los dos numeros necesarios para el calculo\n",
    "    n1 = float(input(\"Ingrese un numero (n1): \"))\n",
    "    n2 = float(input(\"Ingrese un numero (n2 diferente de cero): \"))\n",
    "\n",
    "    #se hacen los procesos requeridos\n",
    "    result1 = n1 + n2\n",
    "    result2 = n1 * n2\n",
    "    result3 = n1 - n2\n",
    "\n",
    "    #validamos que el segundo numero es diferente de cero para que no genere error\n",
    "    if n2 == 0:\n",
    "        print(\"Agregue n2 diferente de cero\")\n",
    "        result4 = \"Indefinido\"\n",
    "    else:\n",
    "        result4 = n1 / n2\n",
    "\n",
    "    #mostramos los resultados de los procesos\n",
    "    print(f\"{n1} + {n2} = {result1}\")\n",
    "    print(f\"{n1} * {n2} = {result2}\")\n",
    "    print(f\"{n1} - {n2} = {result3}\")\n",
    "    print(f\"{n1} / {n2} = {round(result4,2)}\")\n",
    "    \n",
    "    #se aumenta la cantidad de veces hechas dentro del ciclo para que no entre en un bucle infinito\n",
    "    cantPro+=1"
   ]
  },
  {
   "cell_type": "code",
   "execution_count": null,
   "metadata": {},
   "outputs": [],
   "source": []
  }
 ],
 "metadata": {
  "kernelspec": {
   "display_name": "Python 3.9.2 64-bit",
   "language": "python",
   "name": "python3"
  },
  "language_info": {
   "codemirror_mode": {
    "name": "ipython",
    "version": 3
   },
   "file_extension": ".py",
   "mimetype": "text/x-python",
   "name": "python",
   "nbconvert_exporter": "python",
   "pygments_lexer": "ipython3",
   "version": "3.9.2"
  },
  "orig_nbformat": 4,
  "vscode": {
   "interpreter": {
    "hash": "2b3401e4de645694a69141f2204c1ff9232f239e2074c8aa57b46c27c58af83f"
   }
  }
 },
 "nbformat": 4,
 "nbformat_minor": 2
}
