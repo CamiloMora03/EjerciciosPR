{
 "cells": [
  {
   "cell_type": "code",
   "execution_count": 4,
   "metadata": {},
   "outputs": [
    {
     "name": "stdout",
     "output_type": "stream",
     "text": [
      "Amarillo: 46\n",
      "Rosa: 39\n",
      "Roja: 36\n",
      "Verda: 39\n",
      "Azul: 40\n"
     ]
    }
   ],
   "source": [
    "\"\"\"\n",
    "    El Depto. de Seguridad Pública y Transito de desea saber de los n autos que entran a la ciudad de\n",
    "    Bogotá, cuantos entran con calcomanía de cada color. Conociendo el último dígito de la placa de\n",
    "    cada automóvil se puede determinar el color de la calcomanía utilizando la sig. Relación:\n",
    "    DÍGITO COLOR\n",
    "    1 o 2 amarilla\n",
    "    3 o 4 rosa\n",
    "    5 o 6 roja\n",
    "    7 o 8 verde\n",
    "    9 o 0 azul\n",
    "\n",
    "\"\"\"\n",
    "\n",
    "#se importa la libreria random para sacar la funcion choice y seleccionar elementos aleatorios de una lista\n",
    "from random import choice\n",
    "\n",
    "#se genera una lista de los numeros de las placas\n",
    "num = [0,1,2,3,4,5,6,7,8,9]\n",
    "\n",
    "#contador de los colores\n",
    "contAma = 0\n",
    "contRosa = 0\n",
    "contRoja = 0\n",
    "contVerde = 0\n",
    "contAzul = 0\n",
    "#se solicita la cantidad de autos ingresados\n",
    "cant = int(input(\"Ingrese la cantidad de autos que ingresaron: \"))\n",
    "\n",
    "#ciclo que se repite hasta que ya ha categorizado cada auto\n",
    "while cant > 0:\n",
    "\n",
    "    #se eligen numeros aleatorio de la lista para categorizarlos\n",
    "\n",
    "    rel = choice(num)\n",
    "    #condicion para categorizar los autos\n",
    "\n",
    "    if rel == 1 or rel == 2:\n",
    "        contAma += 1\n",
    "    elif rel == 3 or rel == 4:\n",
    "        contRosa += 1\n",
    "    elif rel == 5 or rel == 6:\n",
    "        contRoja += 1\n",
    "    elif rel == 7 or rel == 8:\n",
    "        contVerde += 1\n",
    "    elif rel == 9 or rel == 0:\n",
    "        contAzul += 1\n",
    "\n",
    "    #se reduce la cantidad de carros por ciclo para no entrar en un bucle infinito\n",
    "    cant -= 1\n",
    "\n",
    "#se muestran los resultados de los datos \n",
    "print(f\"Amarillo: {contAma}\")\n",
    "print(f\"Rosa: {contRosa}\")\n",
    "print(f\"Roja: {contRoja}\")\n",
    "print(f\"Verda: {contVerde}\")\n",
    "print(f\"Azul: {contAzul}\")\n"
   ]
  },
  {
   "cell_type": "code",
   "execution_count": null,
   "metadata": {},
   "outputs": [],
   "source": []
  }
 ],
 "metadata": {
  "kernelspec": {
   "display_name": "Python 3.9.2 64-bit",
   "language": "python",
   "name": "python3"
  },
  "language_info": {
   "codemirror_mode": {
    "name": "ipython",
    "version": 3
   },
   "file_extension": ".py",
   "mimetype": "text/x-python",
   "name": "python",
   "nbconvert_exporter": "python",
   "pygments_lexer": "ipython3",
   "version": "3.9.2"
  },
  "orig_nbformat": 4,
  "vscode": {
   "interpreter": {
    "hash": "2b3401e4de645694a69141f2204c1ff9232f239e2074c8aa57b46c27c58af83f"
   }
  }
 },
 "nbformat": 4,
 "nbformat_minor": 2
}
