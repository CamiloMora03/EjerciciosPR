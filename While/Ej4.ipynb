{
 "cells": [
  {
   "cell_type": "code",
   "execution_count": 5,
   "metadata": {},
   "outputs": [
    {
     "name": "stdout",
     "output_type": "stream",
     "text": [
      "42\n",
      "Hombres:  24\n",
      "Mujeres:  18\n"
     ]
    }
   ],
   "source": [
    "\"\"\"\n",
    "    42 personas toman parte de un baile. Durante la fiesta una dama bailó con 7 caballeros, una segunda \n",
    "    dama con 8, una tercera con 9, y así sucesivamente hasta que la última bailó con todos los hombres. \n",
    "    Cuantas damas había en el baile?\n",
    "\n",
    "n = mujeres\n",
    "n+6 = hombres\n",
    "relacion entre hombres y mujeres\n",
    "n+n+6 = personas = 2n+6 = 2(n+3) = 42\n",
    "\n",
    "\n",
    "\"\"\"\n",
    "#contador de hombre, mujeres y personas\n",
    "mujeres = 0\n",
    "hombres = 0\n",
    "personas = 0\n",
    "\n",
    "#ciclo que se repetira hasta que halle las 42 personas\n",
    "while personas <= 42:\n",
    "\n",
    "    #La cantidad de mujeres aumenta en 1 la relacion\n",
    "    mujeres += 1\n",
    "\n",
    "    #la cantidad de hombres aumenta en relacion de las mujeres mas 6 (n+6)\n",
    "    hombres = mujeres + 6\n",
    "\n",
    "    #cantidad de personas con relacion a la cantidad de hombres y mujeres\n",
    "    personas = mujeres + hombres\n",
    "\n",
    "#Impresion de resultados\n",
    "print(\"Personas: \", personas)\n",
    "print(\"Hombres: \", hombres)\n",
    "print(\"Mujeres: \", mujeres)\n"
   ]
  },
  {
   "cell_type": "code",
   "execution_count": null,
   "metadata": {},
   "outputs": [],
   "source": []
  }
 ],
 "metadata": {
  "kernelspec": {
   "display_name": "Python 3.9.2 64-bit",
   "language": "python",
   "name": "python3"
  },
  "language_info": {
   "codemirror_mode": {
    "name": "ipython",
    "version": 3
   },
   "file_extension": ".py",
   "mimetype": "text/x-python",
   "name": "python",
   "nbconvert_exporter": "python",
   "pygments_lexer": "ipython3",
   "version": "3.9.2"
  },
  "orig_nbformat": 4,
  "vscode": {
   "interpreter": {
    "hash": "2b3401e4de645694a69141f2204c1ff9232f239e2074c8aa57b46c27c58af83f"
   }
  }
 },
 "nbformat": 4,
 "nbformat_minor": 2
}
