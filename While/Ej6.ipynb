{
 "cells": [
  {
   "cell_type": "code",
   "execution_count": 10,
   "metadata": {},
   "outputs": [
    {
     "name": "stdout",
     "output_type": "stream",
     "text": [
      "Segundo: 1\n",
      "Distancia:  1141.98\n",
      "Segundo: 2\n",
      "Distancia:  2305.21\n",
      "Segundo: 3\n",
      "Distancia:  3489.72\n",
      "Segundo: 4\n",
      "Distancia:  4695.53\n",
      "Segundo: 5\n",
      "Distancia:  5922.68\n",
      "Segundo: 6\n",
      "Distancia:  7171.19\n",
      "Segundo: 7\n",
      "Distancia:  8441.1\n",
      "Segundo: 8\n",
      "Distancia:  9732.42\n",
      "Segundo: 9\n",
      "Distancia:  11045.19\n"
     ]
    }
   ],
   "source": [
    "\"\"\"\n",
    "    Un avión que viaja 800 Km/hr. Dispara un proyectil auto impulsado, en el momento del disparo, el \n",
    "    avión hace un giro de 90 grados y acelera a 20 mtrs/seg2. El proyectil sigue su curso, acelerando a 10 \n",
    "    mtrs./seg2. Diseñe un pseudocódigo que escriba cada segundo, la distancia que separa al avión del \n",
    "    proyectil, hasta que estén a 10,000 mtrs. o más\n",
    "\n",
    "Formulas de distancia del avion y proyectil\n",
    "dA = (VoA*t) + (aA*t²)/2\n",
    "dM = (VoP*t) + (aP*t²)/2\n",
    "distancia entre los dos\n",
    "h²=a²+b² → d² = dA² + dM² \n",
    "\n",
    "\"\"\"\n",
    "#se importa la libreria de matematicas para sacar la funcion raiz cuadrada (sqrt)\n",
    "from math import sqrt\n",
    "\n",
    "#se incializa la ditancia en cero para que se vaya acumulando\n",
    "distancia = 0\n",
    "\n",
    "#contador para el tiempo\n",
    "t = 0\n",
    "\n",
    "#ciclo que se repite hasta que la distancia entre ellos es mayor a 10000\n",
    "while distancia < 10000:\n",
    "\n",
    "    #El tiempo aumenta conforme pasan los ciclos en segundos\n",
    "    t += 1\n",
    "\n",
    "    #distancia del avion a partir del origen\n",
    "    dA = (800 * t) + (20*t**2)/2\n",
    "\n",
    "    #distancia del proyectil a partir del origen\n",
    "    dM = (800 * t) + (10*t**2)/2\n",
    "\n",
    "    #distancia entre ambos objetos\n",
    "    distancia = sqrt(dA**2 + dM**2)\n",
    "    \n",
    "\n",
    "    #resultados dentro del ciclo para tomar en cuenta como cambia cada segundo que pasa\n",
    "    print(\"Segundo:\", t)\n",
    "    print(\"Distancia: \", round(distancia,2))\n",
    "\n",
    "\n",
    "\n",
    "\n"
   ]
  },
  {
   "cell_type": "code",
   "execution_count": null,
   "metadata": {},
   "outputs": [],
   "source": []
  }
 ],
 "metadata": {
  "kernelspec": {
   "display_name": "Python 3.9.2 64-bit",
   "language": "python",
   "name": "python3"
  },
  "language_info": {
   "codemirror_mode": {
    "name": "ipython",
    "version": 3
   },
   "file_extension": ".py",
   "mimetype": "text/x-python",
   "name": "python",
   "nbconvert_exporter": "python",
   "pygments_lexer": "ipython3",
   "version": "3.9.2"
  },
  "orig_nbformat": 4,
  "vscode": {
   "interpreter": {
    "hash": "2b3401e4de645694a69141f2204c1ff9232f239e2074c8aa57b46c27c58af83f"
   }
  }
 },
 "nbformat": 4,
 "nbformat_minor": 2
}
